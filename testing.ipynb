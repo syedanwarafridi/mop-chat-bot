{
 "cells": [
  {
   "cell_type": "code",
   "execution_count": 1,
   "metadata": {},
   "outputs": [
    {
     "name": "stderr",
     "output_type": "stream",
     "text": [
      "c:\\Users\\Asus\\.conda\\envs\\persona\\lib\\site-packages\\tqdm\\auto.py:21: TqdmWarning: IProgress not found. Please update jupyter and ipywidgets. See https://ipywidgets.readthedocs.io/en/stable/user_install.html\n",
      "  from .autonotebook import tqdm as notebook_tqdm\n",
      "Sliding Window Attention is enabled but not implemented for `sdpa`; unexpected results may be encountered.\n",
      "Loading checkpoint shards: 100%|██████████| 2/2 [00:02<00:00,  1.10s/it]\n"
     ]
    },
    {
     "data": {
      "text/plain": [
       "True"
      ]
     },
     "execution_count": 1,
     "metadata": {},
     "output_type": "execute_result"
    }
   ],
   "source": [
    "from inference import load_fine_tuned_model, inference\n",
    "from dotenv import load_dotenv\n",
    "import os\n",
    "\n",
    "load_dotenv()"
   ]
  },
  {
   "cell_type": "markdown",
   "metadata": {},
   "source": [
    "# Persona Model"
   ]
  },
  {
   "cell_type": "code",
   "execution_count": 2,
   "metadata": {},
   "outputs": [
    {
     "name": "stderr",
     "output_type": "stream",
     "text": [
      "Downloading shards: 100%|██████████| 4/4 [00:01<00:00,  3.97it/s]\n",
      "Loading checkpoint shards: 100%|██████████| 4/4 [00:05<00:00,  1.47s/it]\n",
      "The new embeddings will be initialized from a multivariate normal distribution that has old embeddings' mean and covariance. As described in this article: https://nlp.stanford.edu/~johnhew/vocab-expansion.html. To disable this, use `mean_resizing=False`\n",
      "The new lm_head weights will be initialized from a multivariate normal distribution that has old embeddings' mean and covariance. As described in this article: https://nlp.stanford.edu/~johnhew/vocab-expansion.html. To disable this, use `mean_resizing=False`\n"
     ]
    }
   ],
   "source": [
    "model_id = os.getenv('MODEL_ID')\n",
    "model, tokenizer = load_fine_tuned_model(model_id)"
   ]
  },
  {
   "cell_type": "markdown",
   "metadata": {},
   "source": [
    "# User Input"
   ]
  },
  {
   "cell_type": "code",
   "execution_count": 3,
   "metadata": {},
   "outputs": [],
   "source": [
    "user_input = \"Please pick me 0x5b6975c549a41aedceadf4610e2f9144f03105f3145bda5c69c3412d2e345cf6\"\n",
    "#\"As AI generates innovative content, do we redefine what it means to be creative, or are we just witnessing complex data processing?\"\n",
    "# \"roughly what is the $BTC target this year?\"\n",
    "#\"No day off in crypto\"\n",
    "#\"We get to see hacks every alternate days, Once the bullish sentiment ends in the market\""
   ]
  },
  {
   "cell_type": "code",
   "execution_count": 4,
   "metadata": {},
   "outputs": [
    {
     "name": "stderr",
     "output_type": "stream",
     "text": [
      "Device set to use cuda:0\n"
     ]
    },
    {
     "name": "stdout",
     "output_type": "stream",
     "text": [
      "<|im_start|>system\n",
      "You are a crypto market expert that gives informative answers to user questions based on the context. You can be wrong but you have to be decisive<|im_end|>\n",
      "<|im_start|>user\n",
      "Answer the user question based on provided context in your way.\n",
      "            \n",
      "            Context: {'data': 'Data is not available for the token.'}\n",
      "            \n",
      "            User Question:\n",
      "            Please pick me 0x5b6975c549a41aedceadf4610e2f9144f03105f3145bda5c69c3412d2e345cf6 \n",
      "            \n",
      "            **NOTE:**\n",
      "              - Strictly follow the context and answer the user question.\n",
      "              - If you are suggesting any numbers, make sure they are accurate and include it in the answer.\n",
      "            <|im_end|>\n",
      "<|im_start|>assistant\n",
      "\n",
      "\n",
      "Model Response:\n",
      "\n",
      "\n",
      "\n",
      "suggest you accumulate certik while the price finds support at these levels\n"
     ]
    }
   ],
   "source": [
    "# parser = argparse.ArgumentParser(description=\"Generate responses using a fine-tuned language model.\")\n",
    "# parser.add_argument('-i', '--input', type=str, required=True, help=\"Input text for the model to process.\")\n",
    "# args = parser.parse_args()\n",
    "\n",
    "response = inference(model, tokenizer, user_input)\n",
    "print(\"\\nModel Response:\")\n",
    "print(response)"
   ]
  },
  {
   "cell_type": "code",
   "execution_count": 5,
   "metadata": {},
   "outputs": [],
   "source": [
    "import requests\n",
    "def token_api(query: str):\n",
    "    url = \"http://mop.rekt.life/v1/search\"\n",
    "    try:\n",
    "        response = requests.get(url, params={\"query\": query})\n",
    "        \n",
    "        if response.status_code == 200:\n",
    "            return response.json()\n",
    "        else:\n",
    "            return {\"error\": f\"{response.status_code}\", \"details\": response.text}\n",
    "    \n",
    "    except requests.exceptions.RequestException as e:\n",
    "        return {\"error\": \"Request exception occurred\", \"details\": str(e)}\n",
    "    "
   ]
  },
  {
   "cell_type": "code",
   "execution_count": 6,
   "metadata": {},
   "outputs": [],
   "source": [
    "a = token_api(\"0x5b6975c549a41aedceadf4610e2f9144f03105f3145bda5c69c3412d2e345cf6\")"
   ]
  },
  {
   "cell_type": "code",
   "execution_count": 7,
   "metadata": {},
   "outputs": [
    {
     "data": {
      "text/plain": [
       "dict"
      ]
     },
     "execution_count": 7,
     "metadata": {},
     "output_type": "execute_result"
    }
   ],
   "source": [
    "type(a)"
   ]
  },
  {
   "cell_type": "code",
   "execution_count": 8,
   "metadata": {},
   "outputs": [
    {
     "data": {
      "text/plain": [
       "{'error': '404',\n",
       " 'details': '{\"success\":false,\"error\":{\"message\":\"Failed to get trending token\"}}'}"
      ]
     },
     "execution_count": 8,
     "metadata": {},
     "output_type": "execute_result"
    }
   ],
   "source": [
    "a"
   ]
  },
  {
   "cell_type": "code",
   "execution_count": 9,
   "metadata": {},
   "outputs": [
    {
     "data": {
      "text/plain": [
       "True"
      ]
     },
     "execution_count": 9,
     "metadata": {},
     "output_type": "execute_result"
    }
   ],
   "source": [
    "a[\"error\"] == '404'"
   ]
  },
  {
   "cell_type": "code",
   "execution_count": null,
   "metadata": {},
   "outputs": [],
   "source": []
  }
 ],
 "metadata": {
  "kernelspec": {
   "display_name": "persona",
   "language": "python",
   "name": "python3"
  },
  "language_info": {
   "codemirror_mode": {
    "name": "ipython",
    "version": 3
   },
   "file_extension": ".py",
   "mimetype": "text/x-python",
   "name": "python",
   "nbconvert_exporter": "python",
   "pygments_lexer": "ipython3",
   "version": "3.10.16"
  }
 },
 "nbformat": 4,
 "nbformat_minor": 2
}
