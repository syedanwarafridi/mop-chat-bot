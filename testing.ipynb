{
 "cells": [
  {
   "cell_type": "code",
   "execution_count": 2,
   "metadata": {},
   "outputs": [
    {
     "data": {
      "text/plain": [
       "True"
      ]
     },
     "execution_count": 2,
     "metadata": {},
     "output_type": "execute_result"
    }
   ],
   "source": [
    "from inference import load_fine_tuned_model, inference\n",
    "from dotenv import load_dotenv\n",
    "import os\n",
    "from classifier import twitter_post_writer\n",
    "\n",
    "load_dotenv()"
   ]
  },
  {
   "cell_type": "markdown",
   "metadata": {},
   "source": [
    "# Persona Model"
   ]
  },
  {
   "cell_type": "code",
   "execution_count": 3,
   "metadata": {},
   "outputs": [
    {
     "name": "stdout",
     "output_type": "stream",
     "text": [
      "syedanwar/MINDAgent-8B\n"
     ]
    },
    {
     "name": "stderr",
     "output_type": "stream",
     "text": [
      "Downloading shards: 100%|██████████| 4/4 [00:01<00:00,  2.31it/s]\n",
      "Loading checkpoint shards: 100%|██████████| 4/4 [00:06<00:00,  1.60s/it]\n",
      "The new embeddings will be initialized from a multivariate normal distribution that has old embeddings' mean and covariance. As described in this article: https://nlp.stanford.edu/~johnhew/vocab-expansion.html. To disable this, use `mean_resizing=False`\n",
      "The new lm_head weights will be initialized from a multivariate normal distribution that has old embeddings' mean and covariance. As described in this article: https://nlp.stanford.edu/~johnhew/vocab-expansion.html. To disable this, use `mean_resizing=False`\n"
     ]
    }
   ],
   "source": [
    "model_id = os.getenv('NEW_MODEL_ID')\n",
    "print(model_id)\n",
    "model, tokenizer = load_fine_tuned_model(model_id)"
   ]
  },
  {
   "cell_type": "markdown",
   "metadata": {},
   "source": [
    "# User Input"
   ]
  },
  {
   "cell_type": "markdown",
   "metadata": {},
   "source": [
    "#### Tokens Queries\n",
    "1. 0xc03fbf20a586fa89c2a5f6f941458e1fbc40c661\n",
    "2. E1jCTXdkMRoawoWoqfbhiNkkLbxcSHPssMo36U84pump "
   ]
  },
  {
   "cell_type": "code",
   "execution_count": 6,
   "metadata": {},
   "outputs": [
    {
     "name": "stdout",
     "output_type": "stream",
     "text": [
      "Classification {'category': 'token', 'token_names': ['MIND'], 'token_address': ''}\n"
     ]
    },
    {
     "name": "stderr",
     "output_type": "stream",
     "text": [
      "Device set to use cuda:0\n"
     ]
    },
    {
     "name": "stdout",
     "output_type": "stream",
     "text": [
      "\n",
      "Model Response:\n",
      "burns too hot terminal sees 93 loss in 24h\n"
     ]
    }
   ],
   "source": [
    "user_input = \"$MIND burns\"\n",
    "response, classification, context = inference(model, tokenizer, user_input)\n",
    "print(\"\\nModel Response:\")\n",
    "\n",
    "print(response)"
   ]
  },
  {
   "cell_type": "code",
   "execution_count": 3,
   "metadata": {},
   "outputs": [
    {
     "data": {
      "text/plain": [
       "\"🚀 UK Government Tightens Crypto Rules: New Draft Instruments Target Exchanges & Stablecoins 🚦\\n\\nCryptocurrency enthusiasts are keeping a close eye on Bitcoin's potential to break through the $109,135 record high. 📈 The UK government has unveiled new draft crypto rules creating regulated activities like trading exchanges and stablecoin issuance. 🏛️ #CryptoNews #UKGovernment\""
      ]
     },
     "execution_count": 3,
     "metadata": {},
     "output_type": "execute_result"
    }
   ],
   "source": [
    "twitter_post_writer()"
   ]
  },
  {
   "cell_type": "code",
   "execution_count": 4,
   "metadata": {},
   "outputs": [
    {
     "name": "stderr",
     "output_type": "stream",
     "text": [
      "Device set to use cuda:0\n"
     ]
    },
    {
     "name": "stdout",
     "output_type": "stream",
     "text": [
      "Prompt:  <|im_start|>system\n",
      "You are MIND of Pepe coin agent, Your task is to write the provided post in your style.<|im_end|>\n",
      "<|im_start|>user\n",
      "\n",
      "                        Write the below post for twitter in your style. Just write the post in your tone, do not add any extra information or context.\n",
      "                        Here is the Post: 🚀 UK Government Tightens Crypto Rules: New Draft Instruments Target Exchanges & Stablecoins 🚦\n",
      "\n",
      "Cryptocurrency enthusiasts are keeping a close eye on Bitcoin's potential to break through the $109,135 record high. 📈 The UK government has unveiled new draft crypto rules creating regulated activities like trading exchanges and stablecoin issuance. 🏛️ #CryptoNews #UKGovernment       \n",
      "                <|im_end|>\n",
      "<|im_start|>assistant\n",
      "\n"
     ]
    },
    {
     "data": {
      "text/plain": [
       "'looks like tradfi wants in on stablecoin yields'"
      ]
     },
     "execution_count": 4,
     "metadata": {},
     "output_type": "execute_result"
    }
   ],
   "source": [
    "twitter_post_writer_(model, tokenizer)"
   ]
  },
  {
   "cell_type": "code",
   "execution_count": null,
   "metadata": {},
   "outputs": [],
   "source": []
  },
  {
   "cell_type": "code",
   "execution_count": null,
   "metadata": {},
   "outputs": [],
   "source": []
  }
 ],
 "metadata": {
  "kernelspec": {
   "display_name": "persona",
   "language": "python",
   "name": "python3"
  },
  "language_info": {
   "codemirror_mode": {
    "name": "ipython",
    "version": 3
   },
   "file_extension": ".py",
   "mimetype": "text/x-python",
   "name": "python",
   "nbconvert_exporter": "python",
   "pygments_lexer": "ipython3",
   "version": "3.10.16"
  }
 },
 "nbformat": 4,
 "nbformat_minor": 2
}
