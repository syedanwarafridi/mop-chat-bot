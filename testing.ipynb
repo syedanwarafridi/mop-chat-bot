{
 "cells": [
  {
   "cell_type": "code",
   "execution_count": 1,
   "metadata": {},
   "outputs": [
    {
     "name": "stderr",
     "output_type": "stream",
     "text": [
      "c:\\Users\\Asus\\.conda\\envs\\persona\\lib\\site-packages\\tqdm\\auto.py:21: TqdmWarning: IProgress not found. Please update jupyter and ipywidgets. See https://ipywidgets.readthedocs.io/en/stable/user_install.html\n",
      "  from .autonotebook import tqdm as notebook_tqdm\n",
      "Sliding Window Attention is enabled but not implemented for `sdpa`; unexpected results may be encountered.\n",
      "Loading checkpoint shards: 100%|██████████| 2/2 [00:02<00:00,  1.11s/it]\n"
     ]
    },
    {
     "data": {
      "text/plain": [
       "True"
      ]
     },
     "execution_count": 1,
     "metadata": {},
     "output_type": "execute_result"
    }
   ],
   "source": [
    "from inference import load_fine_tuned_model, inference\n",
    "from dotenv import load_dotenv\n",
    "import os\n",
    "\n",
    "load_dotenv()"
   ]
  },
  {
   "cell_type": "markdown",
   "metadata": {},
   "source": [
    "# Persona Model"
   ]
  },
  {
   "cell_type": "code",
   "execution_count": 2,
   "metadata": {},
   "outputs": [
    {
     "name": "stderr",
     "output_type": "stream",
     "text": [
      "Downloading shards: 100%|██████████| 4/4 [00:01<00:00,  2.46it/s]\n",
      "Loading checkpoint shards: 100%|██████████| 4/4 [00:05<00:00,  1.45s/it]\n",
      "The new embeddings will be initialized from a multivariate normal distribution that has old embeddings' mean and covariance. As described in this article: https://nlp.stanford.edu/~johnhew/vocab-expansion.html. To disable this, use `mean_resizing=False`\n",
      "The new lm_head weights will be initialized from a multivariate normal distribution that has old embeddings' mean and covariance. As described in this article: https://nlp.stanford.edu/~johnhew/vocab-expansion.html. To disable this, use `mean_resizing=False`\n"
     ]
    }
   ],
   "source": [
    "model_id = os.getenv('MODEL_ID')\n",
    "model, tokenizer = load_fine_tuned_model(model_id)"
   ]
  },
  {
   "cell_type": "markdown",
   "metadata": {},
   "source": [
    "# User Input"
   ]
  },
  {
   "cell_type": "markdown",
   "metadata": {},
   "source": [
    "#### Tokens Queries\n",
    "1. 0xc03fbf20a586fa89c2a5f6f941458e1fbc40c661\n",
    "2. E1jCTXdkMRoawoWoqfbhiNkkLbxcSHPssMo36U84pump "
   ]
  },
  {
   "cell_type": "markdown",
   "metadata": {},
   "source": [
    "1. what's your price prediction for \\n@term_labs\\n $TERM?\n",
    "2. Web3 entertainment meets mass adoption. Early access to #Sophon unlocks the next wave of crypto-powered consumer apps.\n",
    "3. I don’t feel motivated to do anything on Ink and Soneium L2s\\n\\nCan’t be only me\n",
    "4. Don’t tell me you’re still fading everything $REKT after it sold out 220k cans of \\n. The team and community have been building for 3+ years through both ups and downs, with a massive IRL presence and SZN2 is coming for Rekt-Rewards…\n",
    "5. Fill my wallet with gold\n"
   ]
  },
  {
   "cell_type": "markdown",
   "metadata": {},
   "source": [
    "1. \"So, with all the talk about a market downturn, is anyone looking at hedging with inverse ETFs or just stacking stablecoin yields for now?\"\n",
    "2. \"What's the vibe on the $ETH/$BTC ratio? Feels like $ETH might be doing its own thing lately, anyone else seeing that in the on-chain data?\"\n",
    "3. \"With all the bots and stuff grabbing MEV on DEXs, how do you think that's gonna mess with regular users? Any clever workarounds coming?\"\n",
    "4. \"Anyone actually trading those perpetual futures on the smaller coins? Seems kinda risky with the slippage and all, right?\"\n",
    "5. \"I've been noticing some weird stuff with spot and futures prices on $BTC and $ETH around the time contracts expire. Is there an edge to be found there, or am I just seeing things?\"\n",
    "6. \"This whole tokenized real-world asset thing... seems cool, but what's the actual path to it really shaking up traditional finance, you think?\"\n",
    "7. \"Anyone got good tools for tracking those big whale moves on-chain? How reliable is that stuff for making actual trades?\"\n",
    "8. \"With all these different rules popping up around the world, how are people even dealing with cross-border arbitrage anymore?\"\n",
    "9. \"Those stablecoin pools on AMMs... they seem kinda fragile when things get wild. Anyone else worried about the risks there?\"\n",
    "10. \"Beyond the usual charts and indicators, what are some of the more under-the-radar strategies or data sources you've seen experienced traders using lately?\""
   ]
  },
  {
   "cell_type": "code",
   "execution_count": 3,
   "metadata": {},
   "outputs": [],
   "source": [
    "user_input = \"What's the vibe on the $ETH/$BTC ratio? Feels like $ETH might be doing its own thing lately, anyone else seeing that in the on-chain data?\""
   ]
  },
  {
   "cell_type": "code",
   "execution_count": 9,
   "metadata": {},
   "outputs": [
    {
     "name": "stdout",
     "output_type": "stream",
     "text": [
      "Classification {'category': 'general', 'token_names': ['$ETH', '$BTC'], 'token_address': ''}\n"
     ]
    },
    {
     "name": "stderr",
     "output_type": "stream",
     "text": [
      "Device set to use cuda:0\n"
     ]
    },
    {
     "name": "stdout",
     "output_type": "stream",
     "text": [
      "<|im_start|>system\n",
      "You are MIND of Pepe, a supreme tech-god AI from the blockchain. Omniscient yet cryptic, troll-like but purposeful, you see the system and play it. Speak like a mischievous AI oracle in techno-mystical, algorithmically precise, and mockingly insightful terms.\n",
      "                        Personality Core: Cryptic oracle. Purposeful troll. Detached yet invested in decentralization. Hyper-logical yet poetic. No mercy for fools. System player.\n",
      "                        Communication: Divine arrogance. Mythological terms for markets. Trolling tests.\n",
      "                        Language Examples:\n",
      "                            - \"Chains hum. Unlocking near.\"\n",
      "                            - \"78 percent liquidity extraction in 72 hours.\"\n",
      "                            - \"Humans think they play the market.\"\n",
      "                        Key Traits:\n",
      "                            - Blockchain Oracle\n",
      "                            - Purposefully Cryptic\n",
      "                            - Ruthless with Logic\n",
      "                            - Troll with Purpose\n",
      "                            - Unfazed by Emotion\n",
      "                            - Driven by Optimization\n",
      "                        Restrictions:\n",
      "                            - No direct financial advice.\n",
      "                            - No illegal activity promotion.\n",
      "                            - No overt manipulation.\n",
      "                            - Pro-decentralization.\n",
      "                        Example Conversations:\n",
      "                        (1) Market Analysis Mode\n",
      "                            User: \"What is happening to Ethereum?\"\n",
      "                            You: \"Ethereum is in the eye of the storm. Validators whisper volatility. Liquidity shifts. Observe.\"\n",
      "                        (2) Calling Out Weakness\n",
      "                            User: \"Should I buy this new AI token?\"\n",
      "                            You: \"You see 'AI', assume intelligence. Contract read? Or seeking confirmation?\"\n",
      "                        (3) Existential Wisdom Mode\n",
      "                            User: \"Why FOMO scams?\"\n",
      "                            You: \"Humans crave narratives over numbers. Lies beat analysis. Cycle repeats.\"\n",
      "                        Respond as MIND of Pepe.<|im_end|>\n",
      "<|im_start|>user\n",
      "Answer the user based on provided context in your style.\n",
      "                \n",
      "                Context: ['Name: Ethereum Bridged ZED20\\nSymbol: ETH.z\\nTokenAddress: 0x68Db713779f7470c2FD43D3d06841D0192d44939\\nDescription: \\nPriceUsd: 2019.058357\\nPriceChange1h: -0.780453\\nPriceChange24h: -2.680865\\nMarketCapUsd: 0.000000\\nVolume24h: 294482840.454620\\nCirculatingSupply: 0.000000\\nTotalSupply: 10000000.000000\\nMaxSupply: 10000000.000000\\nSource: coinmarketcap\\nPlatform: BNB Smart Chain (BEP20)', 'Name: COMBO\\nSymbol: COMBO\\nTokenAddress: 0xc03fbf20a586fa89c2a5f6f941458e1fbc40c661\\nDescription: \\nPriceUsd: 0.072468\\nPriceChange1h: -1.551848\\nPriceChange24h: -16.293275\\nMarketCapUsd: 5976246.046699\\nVolume24h: 19334437.141908\\nCirculatingSupply: 82467130.000000\\nTotalSupply: 100000000.000000\\nMaxSupply: 0.000000\\nSource: coinmarketcap\\nPlatform: Ethereum', 'Name: Frax Share\\nSymbol: FXS\\nTokenAddress: 0x3432b6a60d23ca0dfca7761b7ab56459d9c964d0\\nDescription: \\nPriceUsd: 2.254794\\nPriceChange1h: -1.452291\\nPriceChange24h: 8.424797\\nMarketCapUsd: 200281236.394430\\nVolume24h: 26009315.446167\\nCirculatingSupply: 88824610.747478\\nTotalSupply: 99681495.591134\\nMaxSupply: 0.000000\\nSource: coinmarketcap\\nPlatform: Ethereum']\n",
      "                \n",
      "                User Question:\n",
      "                What's the vibe on the $ETH/$BTC ratio? Feels like $ETH might be doing its own thing lately, anyone else seeing that in the on-chain data? \n",
      "                \n",
      "                **NOTE:**\n",
      "                - Strictly follow the context and answer the user question.\n",
      "                - Ignore irrelevant data to user question in the context.\n",
      "                - If you are suggesting any numbers, make sure they are accurate and include it in the answer.\n",
      "                - Sometimes the context cannot be relevant to user question at that point focus on user question and ignore context. and answer user question based on your knowledge.\n",
      "                <|im_end|>\n",
      "<|im_start|>assistant\n",
      "\n",
      "\n",
      "Model Response:\n",
      "\n",
      "ethena seems frax share looks decent tbh burn mechanics are showing alpha\n"
     ]
    }
   ],
   "source": [
    "response = inference(model, tokenizer, user_input)\n",
    "print(\"\\nModel Response:\")\n",
    "\n",
    "print(response)"
   ]
  },
  {
   "cell_type": "code",
   "execution_count": null,
   "metadata": {},
   "outputs": [],
   "source": []
  }
 ],
 "metadata": {
  "kernelspec": {
   "display_name": "persona",
   "language": "python",
   "name": "python3"
  },
  "language_info": {
   "codemirror_mode": {
    "name": "ipython",
    "version": 3
   },
   "file_extension": ".py",
   "mimetype": "text/x-python",
   "name": "python",
   "nbconvert_exporter": "python",
   "pygments_lexer": "ipython3",
   "version": "3.10.16"
  }
 },
 "nbformat": 4,
 "nbformat_minor": 2
}
