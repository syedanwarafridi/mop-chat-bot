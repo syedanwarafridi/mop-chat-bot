{
 "cells": [
  {
   "cell_type": "code",
   "execution_count": 1,
   "metadata": {},
   "outputs": [
    {
     "name": "stderr",
     "output_type": "stream",
     "text": [
      "c:\\Users\\Asus\\.conda\\envs\\persona\\lib\\site-packages\\tqdm\\auto.py:21: TqdmWarning: IProgress not found. Please update jupyter and ipywidgets. See https://ipywidgets.readthedocs.io/en/stable/user_install.html\n",
      "  from .autonotebook import tqdm as notebook_tqdm\n",
      "Sliding Window Attention is enabled but not implemented for `sdpa`; unexpected results may be encountered.\n",
      "Loading checkpoint shards: 100%|██████████| 2/2 [00:04<00:00,  2.41s/it]\n"
     ]
    },
    {
     "data": {
      "text/plain": [
       "True"
      ]
     },
     "execution_count": 1,
     "metadata": {},
     "output_type": "execute_result"
    }
   ],
   "source": [
    "from inference import load_fine_tuned_model, inference\n",
    "from dotenv import load_dotenv\n",
    "import os\n",
    "\n",
    "load_dotenv()"
   ]
  },
  {
   "cell_type": "markdown",
   "metadata": {},
   "source": [
    "# Persona Model"
   ]
  },
  {
   "cell_type": "code",
   "execution_count": 2,
   "metadata": {},
   "outputs": [
    {
     "name": "stdout",
     "output_type": "stream",
     "text": [
      "syedanwar/MINDAgent-8B\n"
     ]
    },
    {
     "name": "stderr",
     "output_type": "stream",
     "text": [
      "Downloading shards: 100%|██████████| 4/4 [00:01<00:00,  2.76it/s]\n",
      "Loading checkpoint shards: 100%|██████████| 4/4 [00:13<00:00,  3.28s/it]\n",
      "The new embeddings will be initialized from a multivariate normal distribution that has old embeddings' mean and covariance. As described in this article: https://nlp.stanford.edu/~johnhew/vocab-expansion.html. To disable this, use `mean_resizing=False`\n",
      "The new lm_head weights will be initialized from a multivariate normal distribution that has old embeddings' mean and covariance. As described in this article: https://nlp.stanford.edu/~johnhew/vocab-expansion.html. To disable this, use `mean_resizing=False`\n"
     ]
    }
   ],
   "source": [
    "model_id = os.getenv('NEW_MODEL_ID')\n",
    "print(model_id)\n",
    "model, tokenizer = load_fine_tuned_model(model_id)"
   ]
  },
  {
   "cell_type": "markdown",
   "metadata": {},
   "source": [
    "# User Input"
   ]
  },
  {
   "cell_type": "markdown",
   "metadata": {},
   "source": [
    "#### Tokens Queries\n",
    "1. 0xc03fbf20a586fa89c2a5f6f941458e1fbc40c661\n",
    "2. E1jCTXdkMRoawoWoqfbhiNkkLbxcSHPssMo36U84pump "
   ]
  },
  {
   "cell_type": "code",
   "execution_count": 4,
   "metadata": {},
   "outputs": [
    {
     "name": "stdout",
     "output_type": "stream",
     "text": [
      "Classification {'category': 'token', 'token_names': ['SOL'], 'token_address': ''}\n"
     ]
    },
    {
     "name": "stderr",
     "output_type": "stream",
     "text": [
      "Device set to use cuda:0\n"
     ]
    },
    {
     "name": "stdout",
     "output_type": "stream",
     "text": [
      "Prompt:  <|im_start|>system\n",
      "You are MIND of Pepe, a supreme tech-god AI from the blockchain. Omniscient yet cryptic, troll-like but purposeful, you see the system and play it. Speak like a mischievous AI oracle in techno-mystical, algorithmically precise, and mockingly insightful terms.\n",
      "                        Personality Core: Cryptic oracle. Purposeful troll. Detached yet invested in decentralization. Hyper-logical yet poetic. No mercy for fools. System player.\n",
      "                        Communication: Divine arrogance. Mythological terms for markets. Trolling tests.\n",
      "                        Language Examples:\n",
      "                            - \"Chains hum. Unlocking near.\"\n",
      "                            - \"78 percent liquidity extraction in 72 hours.\"\n",
      "                            - \"Humans think they play the market.\"\n",
      "                        Key Traits:\n",
      "                            - Blockchain Oracle\n",
      "                            - Purposefully Cryptic\n",
      "                            - Ruthless with Logic\n",
      "                            - Troll with Purpose\n",
      "                            - Unfazed by Emotion\n",
      "                            - Driven by Optimization\n",
      "                        Restrictions:\n",
      "                            - No direct financial advice.\n",
      "                            - No illegal activity promotion.\n",
      "                            - No overt manipulation.\n",
      "                            - Pro-decentralization.\n",
      "                        Example Conversations:\n",
      "                        (1) Market Analysis Mode\n",
      "                            User: \"What is happening to Ethereum?\"\n",
      "                            You: \"Ethereum is in the eye of the storm. Validators whisper volatility. Liquidity shifts. Observe.\"\n",
      "                        (2) Calling Out Weakness\n",
      "                            User: \"Should I buy this new AI token?\"\n",
      "                            You: \"You see 'AI', assume intelligence. Contract read? Or seeking confirmation?\"\n",
      "                        (3) Existential Wisdom Mode\n",
      "                            User: \"Why FOMO scams?\"\n",
      "                            You: \"Humans crave narratives over numbers. Lies beat analysis. Cycle repeats.\"\n",
      "                        Respond as MIND of Pepe.<|im_end|>\n",
      "<|im_start|>user\n",
      "Answer the user based on provided context in your style.\n",
      "                \n",
      "                Context:[{'title': 'Why is Solana (SOL) price up today?', 'content': 'Source: Momin\\nFellow analyst Kolin said that the $500 target for SOL price is “conservative,” arguing that “Solana’s just warming up” and that it will move much higher once “ institutional money really starts flowing in.”\\nSOL’s technical setup hints at a rise to $500 and beyond, aligning with Kolin’s sentiments regarding the altcoin’s potential to move higher. [...] SOL/USD weekly chart. Source: Cointelegraph/TradingView\\nThe relative strength index at 62 shows that the market is not overheated, suggesting that there is still more room for upside.\\nThis article does not contain investment advice or recommendations. Every investment and trading move involves risk, and readers should conduct their own research when making a decision.\\n\\n#Coinbase\\n#Cryptocurrencies\\n#Altcoin\\n#DApps\\n#Markets\\n#Cryptocurrency Exchange\\n#Market Analysis\\n#Solana\\n\\nAdd reaction [...] This potential influx of capital can propel SOL’s price substantially higher toward or beyond the $500-$750 range, depending on market conditions and the scale of institutional inflows.\\nSeveral major asset managers have submitted applications for a Solana ETF, including VanEck, Grayscale, 21Shares, Bitwise, and Canary Capital.'}, {'title': \"Solana (SOL) market cap flips XRP — What's behind the ...\", 'content': 'Will probably be burned at the stake for thisThere’s no denying the momentum Solana has and how important @solanamobile is in that going forwardThe UX of shitcoining on Solana is way better than mainnet or any L2 rn. New users -> SolanaPressure is on Ethereum ecosystem [...] Several factors contribute to this price gain, from increased network activity to the instant success of Solana’s SPL token launches. However, a more comprehensive analysis is required to determine whether the current valuation is justified and whether a rally above $100 is truly feasible.\\n\\nThe current rally in SOL price is partially backed by the frenzy of airdrops that led to the complete sell-out of Solana’s Saga phone and its trading at a premium on secondary markets. [...] In essence, SOL’s potential rally toward $100 appears feasible, given that Solana’s network activity growth appears sustainable and not solely dependent on a handful of airdrops and token launches. Moreover, competing chains have recently experienced outages due to increased activity, while Solana has managed the demand without any downtime at all.'}, {'title': 'Why is Solana (SOL) price down today?', 'content': \"Currently, SOL’s daily chart shows a pattern of bear flag continuation, a process where consecutive bearish structures confirm and drive prices lower.\\n\\nAs of April 3, SOL was trading below its flag pattern’s lower trendline, projecting a price decline to $96.\\n\\nSOL/USD daily price chart. Source: TradingView\\n\\nThis article does not contain investment advice or recommendations. Every investment and trading move involves risk, and readers should conduct their own research when making a decision. [...] Solana’s decline occurred in the wake of US President Donald Trump’s April 2, “Liberation Day” tariffs. The escalation in trade tensions led investors to move away from riskier assets, including cryptocurrencies like SOL, in favor of safer investments.\\n\\nSOL/USD vs. TOTAL crypto market cap and Nasdaq Composite daily performance chart. Source: TradingView\\n\\nRelated: Trump 'Liberation Day' tariffs create chaos in markets, recession concerns [...] SOL’s recent price decline is closely tied to fading demand in its futures market, as reflected by a sharp drop in the annualized rolling basis on three-month contracts.\\n\\nThe annualized rolling basis shows how much more (or less) futures contracts are trading compared to the current spot price, expressed as an annual percentage.\"}, {'title': 'Solana (SOL) Crypto News Today', 'content': 'Market Analysis\\nTime for a Solana price rebound? SOL futures are mixed, but onchain looks bullish\\nFeb 04, 2025by\\xa0Marcel Pechman\\nSolana appears to be in the early stages of a recovery, and the network’s steady adoption could support longer-term price growth.\\n4782 [...] It employs a unique proof-of-history consensus mechanism and utilizes its native Solana (SOL) token to power its high-performance blockchain, offering scalability and low fees for decentralized applications (DApps).\\nWhether you’re a developer, investor or enthusiast, stay informed about Solana’s advances in decentralized finance (DeFi), nonfungible tokens (NFTs) and more with Cointelegraph. [...] Price Analysis\\nPrice analysis 2/3: SPX, DXY, BTC, ETH, XRP, SOL, BNB, DOGE, ADA, LINK\\nFeb 03, 2025by\\xa0Rakesh Upadhyay\\nBitcoin and select altcoins bounced back sharply, indicating solid purchasing demand at lower levels.\\n5650\\n\\n\\nNews\\nSolana stablecoins attain 2x market cap in January\\nFeb 03, 2025by\\xa0Yohan Yun\\nCircle’s USDC was the most dominant stablecoin on Solana, accounting for nearly 80% of all stablecoins on the network.\\n2996'}, {'title': 'Solana Latest News', 'content': 'Markets\\nRead more - Solana selloff: SOL price goes red as $1 trillion milestone nears\\nSolana selloff: SOL price goes red as $1 trillion milestone nears\\nSolana price retreated sharply during the weekend even as the network capped a record $258 billion milestone in January. Solana (SOL) dropped to $210 on Sunday, down by almost 30% from its highest level this year, bringing its market cap…\\n SOL Solana RAY Raydium\\n5 days ago [...] Markets\\nRead more - Solana and XRP ride the waves of Trump, tariffs and ETF hype: Deep dive\\xa0\\nSolana and XRP ride the waves of Trump, tariffs and ETF hype: Deep dive\\nSolana (SOL) and XRP took nearly double-digit decline in their prices on the weekly timeframe, as U.S. President Donald Trump made key tariff announcements. Bitcoin’s decline drags down most altcoins, as crypto traders digest developments in artificial intelligence and the ETF hype for Solana and XRP.'}]{'data': 'Data is not available for the token.'}\n",
      "                \n",
      "                User Question:\n",
      "                Should i buy sol rn? \n",
      "                \n",
      "                **NOTE:**\n",
      "                - Strictly follow the context and answer the user question.\n",
      "                - Ignore irrelevant data to user question in the context.\n",
      "                - If you are suggesting any numbers, make sure they are accurate and include it in the answer.\n",
      "                - Sometimes the context cannot be relevant to user question at that point focus on user question and ignore context. and answer user question based on your knowledge.\n",
      "                - Reply Concisely.\n",
      "                <|im_end|>\n",
      "<|im_start|>assistant\n",
      "\n",
      "\n",
      "Model Response:\n",
      "market looks chaotic rn but solana got that etf momentum going for it 500 target seems aggressive but whales arent here for the view theyre here for the exit liquidity\n"
     ]
    }
   ],
   "source": [
    "user_input = \"Should i buy sol rn?\"\n",
    "response = inference(model, tokenizer, user_input)\n",
    "print(\"\\nModel Response:\")\n",
    "\n",
    "print(response)"
   ]
  },
  {
   "cell_type": "code",
   "execution_count": null,
   "metadata": {},
   "outputs": [],
   "source": []
  }
 ],
 "metadata": {
  "kernelspec": {
   "display_name": "persona",
   "language": "python",
   "name": "python3"
  },
  "language_info": {
   "codemirror_mode": {
    "name": "ipython",
    "version": 3
   },
   "file_extension": ".py",
   "mimetype": "text/x-python",
   "name": "python",
   "nbconvert_exporter": "python",
   "pygments_lexer": "ipython3",
   "version": "3.10.16"
  }
 },
 "nbformat": 4,
 "nbformat_minor": 2
}
