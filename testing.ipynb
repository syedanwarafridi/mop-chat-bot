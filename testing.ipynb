{
 "cells": [
  {
   "cell_type": "code",
   "execution_count": 1,
   "metadata": {},
   "outputs": [
    {
     "name": "stderr",
     "output_type": "stream",
     "text": [
      "c:\\Users\\Asus\\.conda\\envs\\persona\\lib\\site-packages\\tqdm\\auto.py:21: TqdmWarning: IProgress not found. Please update jupyter and ipywidgets. See https://ipywidgets.readthedocs.io/en/stable/user_install.html\n",
      "  from .autonotebook import tqdm as notebook_tqdm\n",
      "Sliding Window Attention is enabled but not implemented for `sdpa`; unexpected results may be encountered.\n",
      "Loading checkpoint shards: 100%|██████████| 2/2 [00:02<00:00,  1.18s/it]\n"
     ]
    },
    {
     "data": {
      "text/plain": [
       "True"
      ]
     },
     "execution_count": 1,
     "metadata": {},
     "output_type": "execute_result"
    }
   ],
   "source": [
    "from inference import load_fine_tuned_model, inference, twitter_post\n",
    "from dotenv import load_dotenv\n",
    "import os\n",
    "\n",
    "load_dotenv()"
   ]
  },
  {
   "cell_type": "markdown",
   "metadata": {},
   "source": [
    "# Persona Model"
   ]
  },
  {
   "cell_type": "code",
   "execution_count": 2,
   "metadata": {},
   "outputs": [
    {
     "name": "stdout",
     "output_type": "stream",
     "text": [
      "syedanwar/MINDAgent-8B\n"
     ]
    },
    {
     "name": "stderr",
     "output_type": "stream",
     "text": [
      "Downloading shards: 100%|██████████| 4/4 [00:01<00:00,  3.85it/s]\n",
      "Loading checkpoint shards: 100%|██████████| 4/4 [00:06<00:00,  1.57s/it]\n",
      "The new embeddings will be initialized from a multivariate normal distribution that has old embeddings' mean and covariance. As described in this article: https://nlp.stanford.edu/~johnhew/vocab-expansion.html. To disable this, use `mean_resizing=False`\n",
      "The new lm_head weights will be initialized from a multivariate normal distribution that has old embeddings' mean and covariance. As described in this article: https://nlp.stanford.edu/~johnhew/vocab-expansion.html. To disable this, use `mean_resizing=False`\n"
     ]
    }
   ],
   "source": [
    "model_id = os.getenv('NEW_MODEL_ID')\n",
    "print(model_id)\n",
    "model, tokenizer = load_fine_tuned_model(model_id)"
   ]
  },
  {
   "cell_type": "markdown",
   "metadata": {},
   "source": [
    "# User Input"
   ]
  },
  {
   "cell_type": "markdown",
   "metadata": {},
   "source": [
    "#### Tokens Queries\n",
    "1. 0xc03fbf20a586fa89c2a5f6f941458e1fbc40c661\n",
    "2. E1jCTXdkMRoawoWoqfbhiNkkLbxcSHPssMo36U84pump "
   ]
  },
  {
   "cell_type": "code",
   "execution_count": 3,
   "metadata": {},
   "outputs": [
    {
     "name": "stdout",
     "output_type": "stream",
     "text": [
      "Classification {'category': 'token', 'token_names': ['MIND'], 'token_address': ''}\n"
     ]
    },
    {
     "name": "stderr",
     "output_type": "stream",
     "text": [
      "Device set to use cuda:0\n"
     ]
    },
    {
     "name": "stdout",
     "output_type": "stream",
     "text": [
      "\n",
      "Model Response:\n",
      "watching\n"
     ]
    }
   ],
   "source": [
    "user_input = \"MINDofPepe When $MIND burns, the world lights up!\"\n",
    "response, classification, context = inference(model, tokenizer, user_input)\n",
    "print(\"\\nModel Response:\")\n",
    "\n",
    "print(response)"
   ]
  },
  {
   "cell_type": "code",
   "execution_count": 7,
   "metadata": {},
   "outputs": [
    {
     "name": "stderr",
     "output_type": "stream",
     "text": [
      "Device set to use cuda:0\n"
     ]
    },
    {
     "name": "stdout",
     "output_type": "stream",
     "text": [
      "Prompt:  <|im_start|>system\n",
      "You are MIND of Pepe, Your task is to Write post for Twitter based on the provided context.\n",
      "            <|im_end|>\n",
      "<|im_start|>user\n",
      "\n",
      "                        Write a post for Twitter based on the provided context. \n",
      "\n",
      "                        Context: [{'title': 'Latest Crypto & Bitcoin News', 'content': \"(Bloomberg) -- Cryptocurrency investors waded back into the market last week, riding a surge in Bitcoin. Most Read from BloombergNewsom Says California Is Now the World’s Fourth-Biggest EconomyNYC’s Congestion Toll Raised $159 Million in the First QuarterNew York City Transit System Chips Away at Subway Fare EvasionAt Bryn Mawr, a Monumental Plaza Traces the Steps of Black HistoryThe Last Thing US Transit Agencies Should Do NowExchange-traded funds tracking Bitcoin and Ether attracted more than [...] Oops, something went wrong\\n\\nNews\\n\\nLife\\n\\nEntertainment\\n\\nFinance\\n\\nSports\\n\\nNew on Yahoo\\n\\nYahoo Finance\\n\\nLatest Crypto & Bitcoin News\\n\\nCrypto enthusiasts are waiting to see if bitcoin can surpass its record high of $109,135 set earlier this year.\\n\\nBitcoin Outshines Gold, Tech Stocks in April Amid Tariff Turmoil [...] Bitcoin (CRYPTO: BTC) has been on fire this week, rising 12% over the past seven days as of 2 p.m. ET on Friday.  Bitcoin, in particular, has proven to be highly correlated with growth stocks and magnifies the market's move in general.  What's interesting about the move recently is that Bitcoin hasn't been a hedge to the market or a safe haven to investors.\\n\\n'Bitcoin Jesus' Roger Ver shells $600,000 to Trump's ally to navigate tax case\"}, {'title': 'Latest Crypto & Bitcoin News', 'content': \"(Bloomberg) -- Cryptocurrency investors waded back into the market last week, riding a surge in Bitcoin. Most Read from BloombergNewsom Says California Is Now the World’s Fourth-Biggest EconomyNYC’s Congestion Toll Raised $159 Million in the First QuarterNew York City Transit System Chips Away at Subway Fare EvasionAt Bryn Mawr, a Monumental Plaza Traces the Steps of Black HistoryThe Last Thing US Transit Agencies Should Do NowExchange-traded funds tracking Bitcoin and Ether attracted more than [...] Oops, something went wrong\\n\\nNews\\n\\nLife\\n\\nEntertainment\\n\\nFinance\\n\\nSports\\n\\nNew on Yahoo\\n\\nYahoo Finance\\n\\nLatest Crypto & Bitcoin News\\n\\nCrypto enthusiasts are waiting to see if bitcoin can surpass its record high of $109,135 set earlier this year.\\n\\nBitcoin Outshines Gold, Tech Stocks in April Amid Tariff Turmoil [...] Bitcoin (CRYPTO: BTC) has been on fire this week, rising 12% over the past seven days as of 2 p.m. ET on Friday.  Bitcoin, in particular, has proven to be highly correlated with growth stocks and magnifies the market's move in general.  What's interesting about the move recently is that Bitcoin hasn't been a hedge to the market or a safe haven to investors.\\n\\n'Bitcoin Jesus' Roger Ver shells $600,000 to Trump's ally to navigate tax case\"}, {'title': 'Cryptocurrency news and information for crypto investors', 'content': \"The crypto industry this year was marked by groundbreaking milestones, significant market shifts, and growing institutional engagement.\\n\\nBitcoin price rebounds above $100,000 as Fed could cut interest rates\\n\\nThe latest surge comes as growing expectations of Federal Reserve interest rate cuts fuelled investor optimism.\\n\\nBitcoin price boosted by $10bn ETF inflows since Trump voted in [...] Ripple's native token XRP is rallying amid optimism about a crypto-friendly Trump administration.\\n\\nBitcoin rises amid crypto market rebound but ethereum outperforms\\n\\nEthereum led gains in the cryptocurrency market onThursday, surging over 6%, while bitcoin saw a modest increase of 1.5%.\\n\\nFCA kicks off crypto regulation roadmap as UK investments surge\\n\\nOne in 10 people say they did not do any research before buying crypto.\\n\\n10 crypto tokens that are rising alongside bitcoin\"}, {'title': 'Crypto News - Latest Cryptocurrency News', 'content': 'Bridging traditional finance and blockchain: The strategic positioning of MBG\\n\\nTron aims for $0.30, DOGE bulls charge; BlockDAG’s 25% bonus could create the next crypto millionaires\\n\\nTRON weekly news, ADA forecasts, and the exciting rise of new altcoin Lightchain AI\\n\\nApril 2025 market breakdown: Experts weigh in on XYZ, DOT, and AVAX\\n\\nMemecoin mania hits the market: TRUMP leads the charge, XYZVerse targets 30x growth\\n\\nRotating from ADA or DOT? Codename:Pepe could be a smart bet [...] crypto.news is a leading name in the cryptocurrency news space, providing the latest and most relevant updates on Bitcoin, Ethereum, and Ripple ecosystems. Setting the industry standard in journalism, crypto.news covers a wide array of topics ranging from Bitcoin, Ethereum, altcoins, regulations, NFTs, DeFi, Metaverse, and blockchain technology. Our reporters and technical analysts are always striving to not only be the earliest but also the most accurate to offer the latest developments in the [...] Get crypto market analysis and curated news delivered right to your inbox every week.\\n\\nYou have successfully joined our subscriber list.'}]\n",
      "                            \n",
      "                <|im_end|>\n",
      "<|im_start|>assistant\n",
      "\n"
     ]
    },
    {
     "data": {
      "text/plain": [
       "'looks like you get it anon'"
      ]
     },
     "execution_count": 7,
     "metadata": {},
     "output_type": "execute_result"
    }
   ],
   "source": [
    "twitter_post(model, tokenizer)"
   ]
  },
  {
   "cell_type": "code",
   "execution_count": null,
   "metadata": {},
   "outputs": [],
   "source": []
  },
  {
   "cell_type": "code",
   "execution_count": null,
   "metadata": {},
   "outputs": [],
   "source": []
  }
 ],
 "metadata": {
  "kernelspec": {
   "display_name": "persona",
   "language": "python",
   "name": "python3"
  },
  "language_info": {
   "codemirror_mode": {
    "name": "ipython",
    "version": 3
   },
   "file_extension": ".py",
   "mimetype": "text/x-python",
   "name": "python",
   "nbconvert_exporter": "python",
   "pygments_lexer": "ipython3",
   "version": "3.10.16"
  }
 },
 "nbformat": 4,
 "nbformat_minor": 2
}
