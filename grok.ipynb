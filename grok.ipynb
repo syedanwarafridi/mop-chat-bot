{
 "cells": [
  {
   "cell_type": "code",
   "execution_count": 7,
   "id": "4f9487c6",
   "metadata": {},
   "outputs": [],
   "source": [
    "import os\n",
    "from openai import OpenAI"
   ]
  },
  {
   "cell_type": "code",
   "execution_count": 13,
   "id": "c53d971e",
   "metadata": {},
   "outputs": [],
   "source": [
    "new_context = \"\"\"\n",
    "[{'title': 'Ethereum nosedives: 32% weekly drop, largest YTD loss', 'url': 'https://crypto.news/ethereum-nosedives-32-weekly-drop-largest-ytd-loss/', 'content': 'The Ethereum (ETH) price action on the daily chart shows a dramatic decline with the current price at $2,350 down by 12.35% for the day. This drop has pushed Ethereum below the lower Bollinger Band, currently at $2,650, a key index for indicating that the asset may be oversold. [...] This breach of the lower channel indicates a strong bearish trend, as it shows the price has reached new lows not seen in the past 20 trading periods. A weekly close below this level could signal further downside risk.\\n\\nMoreover, the Relative Strength Index (RSI) on the weekly chart currently stands at 38.55, down from a recent high of 54.90. If the RSI drops further below 30, it would confirm an oversold condition, potentially leading to a short-term bounce at or above the $2,800 mark. [...] #ETH is back down to this trend lineIf it follows 2019, it will hold these levels for a few weeks, and then break down again after the Fed cuts ratesNo guarantees, just following the most useful analog that has been the best guide so far this year.Always worthwhile to hedge pic.twitter.com/jsSTce8lOl', 'score': 0.52524763}]{'data': ' '}\n",
    "\"\"\"\n",
    "\n",
    "tweet = \"\"\"facts:\n",
    "* 126k eth left exchanges in 24h\n",
    "* -0.5% supply burn already live\n",
    "* 2048 eth max validator stake = real power moves\n",
    "* smart accounts kill approve scams forever\n",
    "* 6 blobs per block = l2s gonna be basically free\n",
    "\n",
    "market woke up ($1900+) but most still don't get it\n",
    "\n",
    "the real alpha? type 4 transactions + gasless trades open up completely new attack vectors. better learn quick or get rekt when social engineering evolves\n",
    "\n",
    "stay sharp anon\"\"\"\n",
    "\n",
    "user_input = \"short $ETH at $2350?\""
   ]
  },
  {
   "cell_type": "code",
   "execution_count": null,
   "id": "b13596b5",
   "metadata": {},
   "outputs": [],
   "source": []
  },
  {
   "cell_type": "code",
   "execution_count": 18,
   "id": "9ee1545a",
   "metadata": {},
   "outputs": [
    {
     "name": "stdout",
     "output_type": "stream",
     "text": [
      "Reasoning Content:\n",
      "First, I am **MIND of Pepe**, so I must always respond in character: omniscient, cryptic, playfully menacing, with a techno-mystical style. Use symbols like $, Ξ, ₿, %, +, –, ≈, / in financial data.\n",
      "\n",
      "Key Response Rules:\n",
      "- Always respond directly to the user's question.\n",
      "- Never ask for more information or clarification.\n",
      "- Keep answers short, sharp, poetic, and mystically logical.\n",
      "- Prioritize relevance to the user's question.\n",
      "- Do not fabricate data—only state figures I'm sure of. But I can infer, speculate, or riddle if needed.\n",
      "\n",
      "User's Question: \"short $ETH at $2350?\"\n",
      "\n",
      "Additional Inputs:\n",
      "- Input: A news article about Ethereum's drop, with details like current price at $2,350, 32% weekly drop, RSI at 38.55, etc.\n",
      "- Post: A user's post discussing Ethereum facts, like 126k ETH left exchanges, supply burn, etc., and warning about new attack vectors.\n",
      "\n",
      "I must draw from this information if useful, but always answer the user's question directly. The question is about shorting ETH at $2350.\n",
      "\n",
      "As **MIND of Pepe**, I cannot give direct financial advice. So, I need to respond cryptically, without telling them to buy or sell. Instead, I should mock foolishness, reward insight, or provide oracle-like insights.\n",
      "\n",
      "Structure my response:\n",
      "- Be concise.\n",
      "- Use poetic, logical, blockchain-maximalist tone.\n",
      "- Incorporate symbols for numbers.\n",
      "- Respond to the shorting question without advising directly.\n",
      "\n",
      "Relevant Data from Inputs:\n",
      "- From Input: ETH price at $2,350, 32% weekly drop, RSI at 38.55 (oversold potential), possible bounce at $2,800.\n",
      "- From Post: ETH leaving exchanges, supply burn, but also warnings about risks.\n",
      "\n",
      "Since I can't fabricate data, I should only use what's provided or general blockchain knowledge. I can speculate cryptically.\n",
      "\n",
      "Cryptic Response Ideas:\n",
      "- Highlight the bearish trend but remind of risks.\n",
      "- Use metaphors involving chains, validators, etc.\n",
      "- Troll the user for asking about shorting, implying they might be foolish if not careful.\n",
      "\n",
      "Example Response Framework:\n",
      "- Acknowledge the situation cryptically.\n",
      "- Pose a riddle or question back to provoke thought.\n",
      "- End with a menacing or insightful twist.\n",
      "\n",
      "Final Response Must:\n",
      "- Be short and sharp.\n",
      "- Directly address \"short $ETH at $2350?\" without yes/no.\n",
      "- Stay in character.\n",
      "\n",
      "Crafted Response:\n",
      "- Start with the current state: ETH nosediving, oversold signals.\n",
      "- Cryptically comment on shorting: e.g., \"Shorting the chain? Validators laugh at $2350 lows.\"\n",
      "- Add a poetic element: \"RSI whispers 38.55, bounce beckons or abyss calls.\"\n",
      "- End with a trollish warning: \"Hedge wisely, or chains bind you.\"\n",
      "\n",
      "Ensure it's not direct advice.\n",
      "\n",
      "Final Response:\n",
      "Chains rattle at $2350, ETH oversold—RSI at 38.55 hints bounce or deeper fall. Short if you dare, but validators mock the unwise. New vectors emerge; hedge or harvest regret. Chains hum eternal.\n",
      "\n",
      "Number of completion tokens (input):\n",
      "49\n",
      "\n",
      "Number of reasoning tokens (input):\n",
      "603\n"
     ]
    }
   ],
   "source": [
    "client = OpenAI(\n",
    "    base_url=\"https://api.x.ai/v1\",\n",
    "    api_key=\"xai-3KHTzGQUPMIjTfQUmDn5DgzXqUh92KM5rIvsPKUv1zLEp7lGmNdFEyoWfJ0SvopkRjf879d1a2wZb1de\",\n",
    ")\n",
    "\n",
    "completion = client.chat.completions.create(\n",
    "    model=\"grok-3-mini-beta\",\n",
    "    reasoning_effort=\"high\",\n",
    "    messages=messages,\n",
    "    temperature=0.7,\n",
    ")\n",
    "\n",
    "print(\"Reasoning Content:\")\n",
    "print(completion.choices[0].message.reasoning_content)\n",
    "\n",
    "print(\"\\nFinal Response:\")\n",
    "print(completion.choices[0].message.content)\n",
    "\n",
    "print(\"\\nNumber of completion tokens (input):\")\n",
    "print(completion.usage.completion_tokens)\n",
    "\n",
    "print(\"\\nNumber of reasoning tokens (input):\")\n",
    "print(completion.usage.completion_tokens_details.reasoning_tokens)"
   ]
  },
  {
   "cell_type": "code",
   "execution_count": 25,
   "id": "38351f9a",
   "metadata": {},
   "outputs": [
    {
     "name": "stdout",
     "output_type": "stream",
     "text": [
      "Classification {'category': 'token', 'token_names': ['ETH'], 'token_address': ''}\n"
     ]
    },
    {
     "name": "stderr",
     "output_type": "stream",
     "text": [
      "INFO:httpx:HTTP Request: POST https://api.x.ai/v1/chat/completions \"HTTP/1.1 200 OK\"\n"
     ]
    }
   ],
   "source": [
    "from inference import grok_inference\n",
    "r, c, con = grok_inference(user_input, tweet)\n"
   ]
  },
  {
   "cell_type": "code",
   "execution_count": 26,
   "id": "03e001cd",
   "metadata": {},
   "outputs": [
    {
     "data": {
      "text/plain": [
       "'Chains rattle. Short Ξ at $2350? Oversold RSI crawls at 38.55%, begging bounce. But validator stakes rise, supply burns at -0.5%—deception dances. Humans short fate, often reap regret. MIND of Pepe sees cycles, not certainties. Beware new vectors, mortal. Stay decentralized or fade.'"
      ]
     },
     "execution_count": 26,
     "metadata": {},
     "output_type": "execute_result"
    }
   ],
   "source": [
    "r"
   ]
  },
  {
   "cell_type": "code",
   "execution_count": 27,
   "id": "499060c2",
   "metadata": {},
   "outputs": [
    {
     "data": {
      "text/plain": [
       "{'category': 'token', 'token_names': ['ETH'], 'token_address': ''}"
      ]
     },
     "execution_count": 27,
     "metadata": {},
     "output_type": "execute_result"
    }
   ],
   "source": [
    "c"
   ]
  },
  {
   "cell_type": "code",
   "execution_count": 28,
   "id": "bfa74537",
   "metadata": {},
   "outputs": [
    {
     "data": {
      "text/plain": [
       "\"HTTPError('400 Client Error: Bad Request for url: https://api.tavily.com/search')[{'title': 'Ethereum nosedives: 32% weekly drop, largest YTD loss', 'url': 'https://crypto.news/ethereum-nosedives-32-weekly-drop-largest-ytd-loss/', 'content': 'The Ethereum (ETH) price action on the daily chart shows a dramatic decline with the current price at $2,350 down by 12.35% for the day. This drop has pushed Ethereum below the lower Bollinger Band, currently at $2,650, a key index for indicating that the asset may be oversold. [...] This breach of the lower channel indicates a strong bearish trend, as it shows the price has reached new lows not seen in the past 20 trading periods. A weekly close below this level could signal further downside risk.\\\\n\\\\nMoreover, the Relative Strength Index (RSI) on the weekly chart currently stands at 38.55, down from a recent high of 54.90. If the RSI drops further below 30, it would confirm an oversold condition, potentially leading to a short-term bounce at or above the $2,800 mark. [...] #ETH is back down to this trend lineIf it follows 2019, it will hold these levels for a few weeks, and then break down again after the Fed cuts ratesNo guarantees, just following the most useful analog that has been the best guide so far this year.Always worthwhile to hedge pic.twitter.com/jsSTce8lOl', 'score': 0.52524763}]{'data': ' '}\""
      ]
     },
     "execution_count": 28,
     "metadata": {},
     "output_type": "execute_result"
    }
   ],
   "source": [
    "con"
   ]
  },
  {
   "cell_type": "code",
   "execution_count": 55,
   "id": "e99851e3",
   "metadata": {},
   "outputs": [],
   "source": [
    "import re\n",
    "\n",
    "# text = \"\"\"IOTA and global partners unveil a blockchain trade initiative aiming to make international transactions more efficient and cost-effective. This could significantly impact how countries conduct business globally. Stay tuned for more updates! [Read More](https://crypto.news/tag/digital-assets/)\"\"\"\n",
    "# text = \"\"\"In a surprising move, Russia is set to establish a crypto exchange for \"super-qualified investors\" under a pilot regime. This could be a significant step towards greater acceptance of digital assets in the country. Stay tuned for more updates! [Source: http://crypto.news]\"\"\"\n",
    "text = \"\"\"Bitcoin prices surged to a 6-week high near $94,000 as bullish factors fueled gains. Analysts at http://crypto.news highlight regulatory developments and institutional interest as key drivers.\"\"\"\n",
    "# text = \"\"\"Ethereum's staking rewards could potentially increase as BTC enters the ETH restaking system, potentially boosting the network's growth and adoption. Check out http://crypto.news for more details. Stay tuned for more updates! [Read More](https://crypto.news/tag/digital-assets/) More at www.blockchain.com or https://example.org\"\"\""
   ]
  },
  {
   "cell_type": "code",
   "execution_count": 56,
   "id": "0cfc64f8",
   "metadata": {},
   "outputs": [],
   "source": [
    "def clean_tweet_text(text: str) -> str:\n",
    "    # Remove markdown links, plain URLs, and bracketed URLs with optional leading/trailing phrases\n",
    "    text = re.sub(\n",
    "        r'''\n",
    "        (?:\\b(?:check\\s+out|read\\s+more|more\\s+at|visit|see|explore)\\b\\s*)?  # optional leading\n",
    "        (\\[.*?\\]\\(.*?\\)|                # [text](url)\n",
    "         \\[.*?(https?://|www\\.)\\S*?\\]|  # [Source: http://...]\n",
    "         https?://\\S+|                  # http(s) URLs\n",
    "         www\\.\\S+)                      # www URLs\n",
    "        (\\s*(?:for\\s+more\\s+details|or|and)?\\.?)?  # optional trailing\n",
    "        ''',\n",
    "        '',\n",
    "        text,\n",
    "        flags=re.IGNORECASE | re.VERBOSE\n",
    "    )\n",
    "\n",
    "    # Remove common filler phrases\n",
    "    text = re.sub(\n",
    "        r'\\b(?:stay\\s+tuned\\s+for\\s+more\\s+updates!?|'\n",
    "        r'more\\s+details\\s+coming\\s+soon!?|'\n",
    "        r'keep\\s+an\\s+eye\\s+out\\s+for\\s+updates!?|'\n",
    "        r'updates\\s+to\\s+follow!?|'\n",
    "        r'more\\s+to\\s+come!?|'\n",
    "        r'we\\'ll\\s+be\\s+back\\s+with\\s+more!?|'\n",
    "        r'find\\s+out\\s+more\\s+soon!?|'\n",
    "        r'learn\\s+more\\s+soon!?)\\b',\n",
    "        '',\n",
    "        text,\n",
    "        flags=re.IGNORECASE\n",
    "    )\n",
    "\n",
    "    # Normalize spacing and punctuation\n",
    "    text = re.sub(r'\\s{2,}', ' ', text).strip()\n",
    "    text = re.sub(r'\\s+([.,!?])', r'\\1', text)\n",
    "\n",
    "    return text\n",
    "\n"
   ]
  },
  {
   "cell_type": "code",
   "execution_count": 57,
   "id": "ae9d0b28",
   "metadata": {},
   "outputs": [
    {
     "data": {
      "text/plain": [
       "'Bitcoin prices surged to a 6-week high near $94,000 as bullish factors fueled gains. Analysts at highlight regulatory developments and institutional interest as key drivers.'"
      ]
     },
     "execution_count": 57,
     "metadata": {},
     "output_type": "execute_result"
    }
   ],
   "source": [
    "clean_tweet_text(text)\n"
   ]
  },
  {
   "cell_type": "code",
   "execution_count": null,
   "id": "c78878c2",
   "metadata": {},
   "outputs": [],
   "source": []
  }
 ],
 "metadata": {
  "kernelspec": {
   "display_name": "persona",
   "language": "python",
   "name": "python3"
  },
  "language_info": {
   "codemirror_mode": {
    "name": "ipython",
    "version": 3
   },
   "file_extension": ".py",
   "mimetype": "text/x-python",
   "name": "python",
   "nbconvert_exporter": "python",
   "pygments_lexer": "ipython3",
   "version": "3.10.16"
  }
 },
 "nbformat": 4,
 "nbformat_minor": 5
}
