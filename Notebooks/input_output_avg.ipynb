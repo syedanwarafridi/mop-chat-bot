{
 "cells": [
  {
   "cell_type": "markdown",
   "id": "62e71bc2",
   "metadata": {},
   "source": [
    "# Import"
   ]
  },
  {
   "cell_type": "code",
   "execution_count": 41,
   "id": "29f8af1a",
   "metadata": {},
   "outputs": [],
   "source": [
    "from transformers import (\n",
    "    AutoModelForCausalLM,\n",
    "    AutoTokenizer,\n",
    "    BitsAndBytesConfig,\n",
    "    pipeline,\n",
    ")\n",
    "import torch\n",
    "import matplotlib.pyplot as plt"
   ]
  },
  {
   "cell_type": "markdown",
   "id": "c694c7c9",
   "metadata": {},
   "source": [
    "# Load"
   ]
  },
  {
   "cell_type": "code",
   "execution_count": 5,
   "id": "7dfea22b",
   "metadata": {},
   "outputs": [
    {
     "name": "stderr",
     "output_type": "stream",
     "text": [
      "Downloading shards: 100%|██████████| 4/4 [00:01<00:00,  3.55it/s]\n",
      "Loading checkpoint shards: 100%|██████████| 4/4 [00:06<00:00,  1.52s/it]\n",
      "The new embeddings will be initialized from a multivariate normal distribution that has old embeddings' mean and covariance. As described in this article: https://nlp.stanford.edu/~johnhew/vocab-expansion.html. To disable this, use `mean_resizing=False`\n",
      "The new lm_head weights will be initialized from a multivariate normal distribution that has old embeddings' mean and covariance. As described in this article: https://nlp.stanford.edu/~johnhew/vocab-expansion.html. To disable this, use `mean_resizing=False`\n"
     ]
    },
    {
     "data": {
      "text/plain": [
       "Embedding(128264, 4096)"
      ]
     },
     "execution_count": 5,
     "metadata": {},
     "output_type": "execute_result"
    }
   ],
   "source": [
    "torch_dtype = torch.float16\n",
    "attn_implementation = \"eager\"\n",
    "bnb_config = BitsAndBytesConfig(\n",
    "    load_in_4bit=True,\n",
    "    bnb_4bit_quant_type=\"nf4\",\n",
    "    bnb_4bit_compute_dtype=torch_dtype,\n",
    "    bnb_4bit_use_double_quant=True,\n",
    "    llm_int8_enable_fp32_cpu_offload=True\n",
    ")\n",
    "tokenizer = AutoTokenizer.from_pretrained(\"syedanwar/MINDAgent-8B\")\n",
    "model = AutoModelForCausalLM.from_pretrained(\n",
    "    \"syedanwar/MINDAgent-8B\",\n",
    "    quantization_config=bnb_config,\n",
    "    device_map=\"auto\",\n",
    "    attn_implementation=attn_implementation,\n",
    ")\n",
    "model.resize_token_embeddings(len(tokenizer), pad_to_multiple_of=8)"
   ]
  },
  {
   "cell_type": "markdown",
   "id": "3deb5c51",
   "metadata": {},
   "source": [
    "# Test"
   ]
  },
  {
   "cell_type": "code",
   "execution_count": null,
   "id": "72421cce",
   "metadata": {},
   "outputs": [
    {
     "data": {
      "text/plain": [
       "{'input_ids': tensor([[128000,   9906,     11,   1268,    527,    499,     30]]), 'attention_mask': tensor([[1, 1, 1, 1, 1, 1, 1]])}"
      ]
     },
     "execution_count": 27,
     "metadata": {},
     "output_type": "execute_result"
    }
   ],
   "source": [
    "input_text = \"Hello, how are you?\"\n",
    "inputs = tokenizer(input_text, return_tensors=\"pt\")\n",
    "inputs"
   ]
  },
  {
   "cell_type": "code",
   "execution_count": 32,
   "id": "f558ef93",
   "metadata": {},
   "outputs": [
    {
     "data": {
      "text/plain": [
       "7"
      ]
     },
     "execution_count": 32,
     "metadata": {},
     "output_type": "execute_result"
    }
   ],
   "source": [
    "len(inputs.input_ids[0])"
   ]
  },
  {
   "cell_type": "markdown",
   "id": "defe064c",
   "metadata": {},
   "source": [
    "# Counts"
   ]
  },
  {
   "cell_type": "code",
   "execution_count": 33,
   "id": "e2997174",
   "metadata": {},
   "outputs": [],
   "source": [
    "questions = [\n",
    "    \"What effect does President Trump have on crypto these days?\",\n",
    "    \"Between ETH, BTC, and SOL, which one would you choose above all?\",\n",
    "    \"I was a degen back in the days, but then my wallet broke, and I was broke, and everything else broke, and the market broke, and now we are here. How would my story have a happy ending?\",\n",
    "    \"AI coins are all the craze right now. What do you think is going to be the next craze?\",\n",
    "    \"If you were to give me a suggestion for CRf8X9DPZVF27Lib7pgqk7SjGrY15YMF6ZLdjjAMpump, what would it be?\",\n",
    "    \"DeFi is the future – explain!\",\n",
    "    \"You claim to be a crypto god, yet your answers are all vague and lame. This isn't what I paid for.\",\n",
    "    \"what is your thoughts on 6xhjbsaevxpyztnwz4hwkal3m4ywna7bwx2fnzdf8wa6\",\n",
    "    \"im framing this and please remind me of this 456 days from today my mints in xen are due\",\n",
    "    \"hey can tokiemon make airdrop for users? what do you think? can you explain in detail?\",\n",
    "]\n"
   ]
  },
  {
   "cell_type": "code",
   "execution_count": null,
   "id": "3ebd3242",
   "metadata": {},
   "outputs": [
    {
     "name": "stderr",
     "output_type": "stream",
     "text": [
      "Setting `pad_token_id` to `eos_token_id`:128001 for open-end generation.\n",
      "Setting `pad_token_id` to `eos_token_id`:128001 for open-end generation.\n",
      "Setting `pad_token_id` to `eos_token_id`:128001 for open-end generation.\n",
      "Setting `pad_token_id` to `eos_token_id`:128001 for open-end generation.\n",
      "Setting `pad_token_id` to `eos_token_id`:128001 for open-end generation.\n",
      "Setting `pad_token_id` to `eos_token_id`:128001 for open-end generation.\n",
      "Setting `pad_token_id` to `eos_token_id`:128001 for open-end generation.\n",
      "Setting `pad_token_id` to `eos_token_id`:128001 for open-end generation.\n",
      "Setting `pad_token_id` to `eos_token_id`:128001 for open-end generation.\n",
      "Setting `pad_token_id` to `eos_token_id`:128001 for open-end generation.\n"
     ]
    },
    {
     "data": {
      "text/plain": [
       "([12, 17, 47, 24, 46, 9, 26, 39, 22, 24],\n",
       " [32, 37, 67, 44, 66, 29, 46, 59, 42, 44])"
      ]
     },
     "execution_count": 47,
     "metadata": {},
     "output_type": "execute_result"
    }
   ],
   "source": [
    "len_tensors = [] \n",
    "output_lengths = [] \n",
    "\n",
    "\n",
    "for i in questions:\n",
    "\n",
    "    inputs = tokenizer(i, return_tensors=\"pt\")\n",
    "    input_length = len(inputs.input_ids[0])\n",
    "    len_tensors.append(input_length)\n",
    "    \n",
    "\n",
    "    inputs = {k: v.to(device) for k, v in inputs.items()}\n",
    "    outputs = model.generate(**inputs)\n",
    "    \n",
    "    output_length = len(outputs[0])\n",
    "    output_lengths.append(output_length)\n",
    "\n",
    "len_tensors, output_lengths\n"
   ]
  },
  {
   "cell_type": "markdown",
   "id": "ae4a1e6d",
   "metadata": {},
   "source": [
    "# Plot with Mean"
   ]
  },
  {
   "cell_type": "code",
   "execution_count": null,
   "id": "bcf22121",
   "metadata": {},
   "outputs": [
    {
     "data": {
      "image/png": "[encoded data removed]",
      "text/plain": [
       "<Figure size 1000x600 with 1 Axes>"
      ]
     },
     "metadata": {},
     "output_type": "display_data"
    }
   ],
   "source": [
    "import matplotlib.pyplot as plt\n",
    "import numpy as np\n",
    "\n",
    "fig, ax = plt.subplots(figsize=(10, 6))\n",
    "\n",
    "indices = np.arange(len(questions))\n",
    "\n",
    "bar_width = 0.35\n",
    "\n",
    "ax.bar(indices - bar_width / 2, len_tensors, bar_width, label=\"Input Token Length\", color='skyblue')\n",
    "\n",
    "ax.bar(indices + bar_width / 2, output_lengths, bar_width, label=\"Output Token Length\", color='orange')\n",
    "\n",
    "mean_input = np.mean(len_tensors)\n",
    "mean_output = np.mean(output_lengths)\n",
    "\n",
    "ax.axhline(mean_input, color='blue', linestyle='--', label=f\"Mean Input Length: {mean_input:.2f}\")\n",
    "ax.axhline(mean_output, color='red', linestyle='--', label=f\"Mean Output Length: {mean_output:.2f}\")\n",
    "\n",
    "ax.set_title(\"Input vs Output Token Lengths for Each Question\")\n",
    "ax.set_xlabel(\"Questions\")\n",
    "ax.set_ylabel(\"Token Length\")\n",
    "ax.set_xticks(indices)\n",
    "ax.set_xticklabels(indices, rotation=0, ha=\"right\")\n",
    "\n",
    "ax.legend()\n",
    "\n",
    "plt.tight_layout()\n",
    "plt.show()\n"
   ]
  },
  {
   "cell_type": "code",
   "execution_count": null,
   "id": "77ec8ee4",
   "metadata": {},
   "outputs": [],
   "source": []
  }
 ],
 "metadata": {
  "kernelspec": {
   "display_name": "persona",
   "language": "python",
   "name": "python3"
  },
  "language_info": {
   "codemirror_mode": {
    "name": "ipython",
    "version": 3
   },
   "file_extension": ".py",
   "mimetype": "text/x-python",
   "name": "python",
   "nbconvert_exporter": "python",
   "pygments_lexer": "ipython3",
   "version": "3.10.16"
  }
 },
 "nbformat": 4,
 "nbformat_minor": 5
}
