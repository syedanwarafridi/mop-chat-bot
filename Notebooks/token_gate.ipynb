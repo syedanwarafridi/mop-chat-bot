{
 "cells": [
  {
   "cell_type": "code",
   "execution_count": 12,
   "id": "14a5014d",
   "metadata": {},
   "outputs": [
    {
     "name": "stdout",
     "output_type": "stream",
     "text": [
      "18\n",
      "1965000000000000000000000000000\n",
      "Wallet 0x4a2c786651229175407d3a2d405d1998bcf40614 holds 1965000000000.0 PEPE tokens.\n"
     ]
    }
   ],
   "source": [
    "from web3 import Web3\n",
    "\n",
    "w3 = Web3(Web3.HTTPProvider(\"https://mainnet.infura.io/v3/3b58b4263dd445709d397ec108184f08\"))\n",
    "\n",
    "if not w3.is_connected():\n",
    "    raise ConnectionError(\"Failed to connect to Ethereum network via Infura.\")\n",
    "\n",
    "PEPE_CONTRACT_ADDRESS = \"0x6982508145454Ce325dDbE47a25d4ec3d2311933\"\n",
    "\n",
    "ERC20_ABI = [\n",
    "    {\n",
    "        \"constant\": True,\n",
    "        \"inputs\": [{\"name\": \"_owner\", \"type\": \"address\"}],\n",
    "        \"name\": \"balanceOf\",\n",
    "        \"outputs\": [{\"name\": \"balance\", \"type\": \"uint256\"}],\n",
    "        \"type\": \"function\",\n",
    "    },\n",
    "    {\n",
    "        \"constant\": True,\n",
    "        \"inputs\": [],\n",
    "        \"name\": \"decimals\",\n",
    "        \"outputs\": [{\"name\": \"\", \"type\": \"uint8\"}],\n",
    "        \"type\": \"function\",\n",
    "    },\n",
    "]\n",
    "\n",
    "pepe_contract = w3.eth.contract(address=PEPE_CONTRACT_ADDRESS, abi=ERC20_ABI)\n",
    "\n",
    "def get_pepe_balance(wallet_address: str):\n",
    "    \"\"\"\n",
    "    Retrieve the PEPE token balance of a given wallet address.\n",
    "    \"\"\"\n",
    "    checksum_address = w3.to_checksum_address(wallet_address)\n",
    "\n",
    "    decimals = pepe_contract.functions.decimals().call()\n",
    "    print(decimals)\n",
    "    raw_balance = pepe_contract.functions.balanceOf(checksum_address).call()\n",
    "    print(raw_balance)\n",
    "    readable_balance = raw_balance / (10 ** decimals)\n",
    "    return readable_balance\n",
    "\n",
    "wallet_to_check = \"0x4a2c786651229175407d3a2d405d1998bcf40614\"\n",
    "balance = get_pepe_balance(wallet_to_check)\n",
    "print(f\"Wallet {wallet_to_check} holds {balance} PEPE tokens.\")\n"
   ]
  },
  {
   "cell_type": "code",
   "execution_count": null,
   "id": "b45c92d2",
   "metadata": {},
   "outputs": [],
   "source": []
  }
 ],
 "metadata": {
  "kernelspec": {
   "display_name": "persona",
   "language": "python",
   "name": "python3"
  },
  "language_info": {
   "codemirror_mode": {
    "name": "ipython",
    "version": 3
   },
   "file_extension": ".py",
   "mimetype": "text/x-python",
   "name": "python",
   "nbconvert_exporter": "python",
   "pygments_lexer": "ipython3",
   "version": "3.10.16"
  }
 },
 "nbformat": 4,
 "nbformat_minor": 5
}
